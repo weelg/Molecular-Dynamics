{
 "cells": [
  {
   "cell_type": "markdown",
   "metadata": {},
   "source": [
    "#### Exercise 3 - Equations of Motion\n"
   ]
  },
  {
   "cell_type": "markdown",
   "metadata": {},
   "source": [
    "#### 3.1 Harmonic oscillator\n",
    "\n",
    "Consider the following harmonic stretching vibrations: \n",
    "1. C–H: Wavenumber $\\widetilde{\\nu}$ = 3000 cm−1 \n",
    "2. C–D: $\\widetilde{\\nu}$= 2100 cm−1 \n",
    "3. C–C: $\\widetilde{\\nu}$= 1000 cm−1 \n",
    "4. C=C: $\\widetilde{\\nu}$= 1700 cm−1 \n",
    "5. C≡C: $\\widetilde{\\nu}$= 2200 cm−1 "
   ]
  },
  {
   "cell_type": "markdown",
   "metadata": {},
   "source": [
    "1. Look up the definition of wavenumber and convert the values above to frequencies\n",
    "${f}$, angular frequency ${\\omega}$ and vibration periods ${T}$."
   ]
  },
  {
   "cell_type": "markdown",
   "metadata": {},
   "source": [
    "#### Wavenumber Definition\n",
    "The wavenumber is the spatial frequency of a wave, measured in cycles per unit distance or radians per unit distance i.e. the number of waves per unit distance. The wavenumber can alternatively be described as a unit of frequency equal to the true frequency divided by the speed of light.\n",
    "\n",
    "$$\\widetilde{\\nu}=\\frac{1}{\\lambda}=\\frac{f}{c}$$"
   ]
  },
  {
   "cell_type": "markdown",
   "metadata": {},
   "source": [
    "#### Frequencies\n",
    " \n",
    "$${f}=\\widetilde{\\nu}c$$\n",
    "\n",
    "1. C–H: ${f}$ = $8.994\\times{10}^{13}Hz$\n",
    "2. C–D: ${f}$ = $6.296\\times{10}^{13}Hz$\n",
    "3. C–C: ${f}$ = $2.998\\times{10}^{13}Hz$\n",
    "4. C=C: ${f}$ = $5.096\\times{10}^{13}Hz$\n",
    "5. C≡C: ${f}$ = $6.595\\times{10}^{13}Hz$\n",
    "\n",
    "Where ${c}$ = Speed of Light = $2.99792458\\times{10}^{10}cm\\ s^{-1}$\n"
   ]
  },
  {
   "cell_type": "markdown",
   "metadata": {},
   "source": [
    "#### Angular Frequencies\n",
    "\n",
    "$${\\omega}={2\\pi}{f}$$\n",
    "\n",
    "1. C–H: ${\\omega}$ = $5.651\\times{10}^{14}rad\\ s^{-1}$\n",
    "2. C–D: ${\\omega}$ = $3.956\\times{10}^{14}rad\\ s^{-1}$\n",
    "3. C–C: ${\\omega}$ = $1.884\\times{10}^{14}rad\\ s^{-1}$\n",
    "4. C=C: ${\\omega}$ = $3.202\\times{10}^{14}rad\\ s^{-1}$\n",
    "5. C≡C: ${\\omega}$ = $4.144\\times{10}^{14}rad\\ s^{-1}$\n"
   ]
  },
  {
   "cell_type": "markdown",
   "metadata": {},
   "source": [
    "#### Vibration Period\n",
    "\n",
    "$${T}=\\frac{1}{f}$$\n",
    "\n",
    "1. C–H: ${T}$ = $1.111\\times{10}^{13}s$\n",
    "2. C–D: ${T}$ = $1.588\\times{10}^{13}s$\n",
    "3. C–C: ${T}$ = $3.336\\times{10}^{13}s$\n",
    "4. C=C: ${T}$ = $1.962\\times{10}^{13}s$\n",
    "5. C≡C: ${T}$ = $1.516\\times{10}^{13}s$"
   ]
  },
  {
   "cell_type": "markdown",
   "metadata": {},
   "source": [
    "2. Calculate the reduced mass µ and force constant k for the examples above"
   ]
  },
  {
   "cell_type": "markdown",
   "metadata": {},
   "source": [
    "#### Reduced Mass\n",
    "\n",
    "$$\\mu=\\frac{m_1m_2}{m_1+m_2}$$\n",
    "\n",
    "1. C–H: ${\\mu} = 0.921 amu = 1.529\\times{10}^{-27}kg$\n",
    "2. C–D: ${\\mu} = 1.725 amu = 2.864\\times{10}^{-27}kg$\n",
    "3. C–C: ${\\mu} = 6.001 amu = 9.965\\times{10}^{-27}kg$\n",
    "4. C=C: ${\\mu} = 6.001 amu = 9.965\\times{10}^{-27}kg$\n",
    "5. C≡C: ${\\mu} = 6.001 amu = 9.965\\times{10}^{-27}kg$\n",
    "\n",
    "Where:\n",
    "<br>\n",
    "Mass of Carbon (C) = 12.011 amu\n",
    "<br>\n",
    "Mass of Deuterium (D) = 2.014 amu\n",
    "<br>\n",
    "Mass of Hydrogen (H) = 1.008 amu\n",
    "\n",
    "Note: To convert to kg, divide mass in amu by $6.022\\times{10}^{26}$\n"
   ]
  },
  {
   "cell_type": "markdown",
   "metadata": {},
   "source": [
    "#### Force Constant\n",
    "\n",
    "$$k=4\\pi^2\\mu{f}^2$$\n",
    "\n",
    "1. C–H: ${k}$ = 488.285 $Nm^{-1}$\n",
    "2. C–D: ${k}$ = 448.190 $Nm^{-1}$\n",
    "3. C–C: ${k}$ = 353.590 $Nm^{-1}$\n",
    "4. C=C: ${k}$ = 1021.635 $Nm^{-1}$\n",
    "5. C≡C: ${k}$ = 1711.066 $Nm^{-1}$"
   ]
  },
  {
   "cell_type": "markdown",
   "metadata": {},
   "source": [
    "3. Discuss the influence of µ and chemical bond strength on the vibrational frequencies for the given examples."
   ]
  },
  {
   "cell_type": "markdown",
   "metadata": {},
   "source": [
    "Vibrational frequencies are influenced by both the reduced mass and the chemical bond strength as given by:\n",
    "\n",
    "$$f=\\frac{1}{2\\pi}\\sqrt{\\frac{k}{\\mu}}$$\n",
    "\n",
    "The chemical bond strengh corresponds roughly to the force constant $(k)$.\n",
    "\n",
    "From this equation it can be seen that as bond strength increases, the force constant will also increase. This causes in an increase in vibrational frequency. It can also be seen that as reduced mass increases, the vibrational frequency decreases.\n",
    "\n",
    "Applying this to the given examples, the order of increasing frequency is as follows:\n",
    "C-C < C=C < C-D < C≡C < C-H\n",
    "\n",
    "The C-H bond has the highest frequency. This is due to the fact it has the smallest reduced mass, despite a relatively low force constant. C-D has a lower force constant than C-H and C≡C. It's reduced mass is higher than C-H and lower than C≡C.Therefore the frequency of C-D is lower than both C≡C and C-H. The reduced mass of C-C, C=C and C≡C are the same but their force constants are different. The force constant increases as bond strength increases so C≡C has a higher frequency than C=C which has a higher frequency than C-C i.e. the C-C bond has the lowest frequency as it has the smallest force constant. \n",
    "\n",
    "This can be summarised by saying that strong bonds and light atoms will have the highest frequencies.\n"
   ]
  },
  {
   "cell_type": "code",
   "execution_count": null,
   "metadata": {},
   "outputs": [],
   "source": []
  }
 ],
 "metadata": {
  "kernelspec": {
   "display_name": "Python 3",
   "language": "python",
   "name": "python3"
  },
  "language_info": {
   "codemirror_mode": {
    "name": "ipython",
    "version": 3
   },
   "file_extension": ".py",
   "mimetype": "text/x-python",
   "name": "python",
   "nbconvert_exporter": "python",
   "pygments_lexer": "ipython3",
   "version": "3.7.3"
  }
 },
 "nbformat": 4,
 "nbformat_minor": 2
}
